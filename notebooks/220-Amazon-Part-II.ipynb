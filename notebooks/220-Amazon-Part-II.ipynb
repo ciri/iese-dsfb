{
 "cells": [
  {
   "cell_type": "markdown",
   "metadata": {},
   "source": [
    "[![Open In Colab](https://colab.research.google.com/assets/colab-badge.svg)](https://colab.research.google.com/github/ciri/iese-dsfb/blob/main/notebooks/210-Amazon-Part-II.ipynb)\n",
    "\n",
    "# Tabular: Amazon Part II\n",
    "\n",
    "NOTE: The content in this notebook is best rendered in a jupyter notebook or google collab.\n",
    "\n",
    "Last time, we identified a decline in revenue and overdependence on one category. Today, we'll investigate what might be hurting revenue (like cancellations), and then look at where and to whom Amazon could sell more — ending with a focused growth strategy."
   ]
  },
  {
   "cell_type": "code",
   "execution_count": 1,
   "metadata": {},
   "outputs": [],
   "source": [
    "import pandas as pd\n",
    "df = pd.read_csv('../resources/tabular/Amazon-cleaned.csv')"
   ]
  },
  {
   "cell_type": "markdown",
   "metadata": {},
   "source": [
    "## Cancellations & Returns\n",
    "\n",
    "Not all orders are good news. In e-commerce, cancellations and returns create serious operational and financial issues:\n",
    "* Lost revenue: These orders don’t convert into sales.\n",
    "* Shipping and handling costs: Often non-refundable.\n",
    "* Reverse logistics: Costly and time-consuming.\n",
    "* Chargebacks: Especially if customers dispute transactions.\n",
    "* Fraud & abuse: Repeated returns or B2C-to-B2B loopholes.\n",
    "* Money laundering flags: In some cases, abnormal return behavior is a red flag.\n",
    "\n",
    "Long story short: cancellations and returns hurt revenue.\n",
    "\n",
    "Let’s measure the size of the problem:\n",
    "\n",
    "* How many orders were cancelled?\n",
    "* How many were returned?\n",
    "* What percentage of total orders does this represent?\n",
    "\n",
    "So far, you’ve used `.groupby()` for totals and averages. Now let’s introduce `.value_counts()` which is a quick way to count categories in one column, like a faster `.groupby('status').shape`."
   ]
  },
  {
   "cell_type": "code",
   "execution_count": 2,
   "metadata": {},
   "outputs": [
    {
     "data": {
      "text/plain": [
       "status\n",
       "Shipped                          75940\n",
       "Shipped - Delivered to Buyer     28029\n",
       "Cancelled                        10756\n",
       "Shipped - Returned to Seller      1949\n",
       "Shipped - Picked Up                945\n",
       "Pending                            639\n",
       "Pending - Waiting for Pick Up      272\n",
       "Shipped - Returning to Seller      143\n",
       "Shipped - Out for Delivery          35\n",
       "Shipped - Rejected by Buyer         11\n",
       "Shipped - Lost in Transit            5\n",
       "Shipped - Damaged                    1\n",
       "Name: count, dtype: int64"
      ]
     },
     "execution_count": 2,
     "metadata": {},
     "output_type": "execute_result"
    }
   ],
   "source": [
    "# Step 1: Count all status values\n",
    "# ---> same as: df.groupby('status').size().sort_values(ascending=False)\n",
    "df['status'].value_counts() "
   ]
  },
  {
   "cell_type": "code",
   "execution_count": 3,
   "metadata": {},
   "outputs": [],
   "source": [
    "# Step 2: Filter for problematic orders (cancelled or returned)\n",
    "cancelled = df[df['status'] == 'Cancelled']\n",
    "returned  = df[df['status'] == 'Shipped - Returned to Seller']"
   ]
  },
  {
   "cell_type": "code",
   "execution_count": 4,
   "metadata": {},
   "outputs": [
    {
     "name": "stdout",
     "output_type": "stream",
     "text": [
      "Cancelled Orders: 10756 (9.06%)\n",
      "Returned Orders: 1949 (1.64%)\n",
      "Total Problematic Orders: 10.70%\n"
     ]
    }
   ],
   "source": [
    "# Step 3: Calculate totals and percentages\n",
    "total_orders    = df.shape[0]\n",
    "cancelled_pct   = cancelled.shape[0] / total_orders * 100\n",
    "returned_pct    = returned.shape[0] / total_orders * 100\n",
    "problematic_pct = (cancelled.shape[0]  + returned.shape[0]) / total_orders * 100\n",
    "\n",
    "print(f\"Cancelled Orders: {len(cancelled)} ({cancelled_pct:.2f}%)\")\n",
    "print(f\"Returned Orders: {len(returned)} ({returned_pct:.2f}%)\")\n",
    "print(f\"Total Problematic Orders: {problematic_pct:.2f}%\")"
   ]
  },
  {
   "cell_type": "markdown",
   "metadata": {},
   "source": [
    "> Observations: High cancellation rates (churn?), high return rates (issues with quality or fit? need to figure this out to avoid expensive logistics)."
   ]
  },
  {
   "cell_type": "markdown",
   "metadata": {},
   "source": [
    "### Revenue by Customer Type (B2B vs. Regular)\n",
    "\n",
    "Amazon doesn’t just sell to everyday consumers — it also serves **business buyers** through **Amazon Business**.\n",
    "\n",
    "| **Customer Type** | **Examples**                                      | **What They Value**                                |\n",
    "|--------------------|---------------------------------------------------|----------------------------------------------------|\n",
    "| Regular (B2C)       | Individual shoppers buying for personal use      | Price, fast shipping, product variety              |\n",
    "| Business (B2B)      | SMEs, schools, retailers buying in bulk          | Discounts, tax invoices, delivery reliability, APIs|\n",
    "\n",
    "Business customers usually spend more per order — but place fewer orders.  \n",
    "Regular customers are more frequent, but each transaction is smaller.\n",
    "\n",
    "Let’s compare:\n",
    "1. Total revenue by customer type  \n",
    "2. Average order value (AOV) by customer type  \n",
    "3. Number of orders by customer type"
   ]
  },
  {
   "cell_type": "code",
   "execution_count": 5,
   "metadata": {},
   "outputs": [
    {
     "data": {
      "text/html": [
       "<div>\n",
       "<style scoped>\n",
       "    .dataframe tbody tr th:only-of-type {\n",
       "        vertical-align: middle;\n",
       "    }\n",
       "\n",
       "    .dataframe tbody tr th {\n",
       "        vertical-align: top;\n",
       "    }\n",
       "\n",
       "    .dataframe thead th {\n",
       "        text-align: right;\n",
       "    }\n",
       "</style>\n",
       "<table border=\"1\" class=\"dataframe\">\n",
       "  <thead>\n",
       "    <tr style=\"text-align: right;\">\n",
       "      <th></th>\n",
       "      <th>B2B</th>\n",
       "      <th>total_revenue</th>\n",
       "      <th>avg_order_value</th>\n",
       "      <th>order_count</th>\n",
       "    </tr>\n",
       "  </thead>\n",
       "  <tbody>\n",
       "    <tr>\n",
       "      <th>0</th>\n",
       "      <td>False</td>\n",
       "      <td>856880.31</td>\n",
       "      <td>7.268967</td>\n",
       "      <td>117882</td>\n",
       "    </tr>\n",
       "    <tr>\n",
       "      <th>1</th>\n",
       "      <td>True</td>\n",
       "      <td>6503.49</td>\n",
       "      <td>7.714698</td>\n",
       "      <td>843</td>\n",
       "    </tr>\n",
       "  </tbody>\n",
       "</table>\n",
       "</div>"
      ],
      "text/plain": [
       "     B2B  total_revenue  avg_order_value  order_count\n",
       "0  False      856880.31         7.268967       117882\n",
       "1   True        6503.49         7.714698          843"
      ]
     },
     "execution_count": 5,
     "metadata": {},
     "output_type": "execute_result"
    }
   ],
   "source": [
    "# Step 1: Group by customer type and summarize metrics\n",
    "customer_summary = df.groupby('B2B').agg(\n",
    "    total_revenue   = ('amount_eu', 'sum'),\n",
    "    avg_order_value = ('amount_eu', 'mean'),\n",
    "    order_count     = ('order_id', 'count')\n",
    ").reset_index()\n",
    "customer_summary"
   ]
  },
  {
   "cell_type": "code",
   "execution_count": 6,
   "metadata": {},
   "outputs": [
    {
     "data": {
      "text/html": [
       "<div>\n",
       "<style scoped>\n",
       "    .dataframe tbody tr th:only-of-type {\n",
       "        vertical-align: middle;\n",
       "    }\n",
       "\n",
       "    .dataframe tbody tr th {\n",
       "        vertical-align: top;\n",
       "    }\n",
       "\n",
       "    .dataframe thead th {\n",
       "        text-align: right;\n",
       "    }\n",
       "</style>\n",
       "<table border=\"1\" class=\"dataframe\">\n",
       "  <thead>\n",
       "    <tr style=\"text-align: right;\">\n",
       "      <th></th>\n",
       "      <th>B2B</th>\n",
       "      <th>total_revenue</th>\n",
       "      <th>avg_order_value</th>\n",
       "      <th>order_count</th>\n",
       "    </tr>\n",
       "  </thead>\n",
       "  <tbody>\n",
       "    <tr>\n",
       "      <th>0</th>\n",
       "      <td>B2C</td>\n",
       "      <td>919207.39</td>\n",
       "      <td>7.797691</td>\n",
       "      <td>117882</td>\n",
       "    </tr>\n",
       "    <tr>\n",
       "      <th>1</th>\n",
       "      <td>B2B</td>\n",
       "      <td>6976.65</td>\n",
       "      <td>8.275979</td>\n",
       "      <td>843</td>\n",
       "    </tr>\n",
       "  </tbody>\n",
       "</table>\n",
       "</div>"
      ],
      "text/plain": [
       "   B2B  total_revenue  avg_order_value  order_count\n",
       "0  B2C      919207.39         7.797691       117882\n",
       "1  B2B        6976.65         8.275979          843"
      ]
     },
     "execution_count": 6,
     "metadata": {},
     "output_type": "execute_result"
    }
   ],
   "source": [
    "# Step 2: Convert True/False to readable labels\n",
    "customer_summary['B2B'] = customer_summary['B2B'].replace({True: 'B2B', False: 'B2C'})\n",
    "customer_summary"
   ]
  },
  {
   "cell_type": "markdown",
   "metadata": {},
   "source": [
    "**Observations**:\n",
    "\n",
    "| **Metric**         | **What It Shows**                                                                                |\n",
    "|--------------------|--------------------------------------------------------------------------------------------------|\n",
    "| **Order Count** | Regular customers dominate volume — this is the bulk of the business                            |\n",
    "| **AOV**         | Business customers spend **~8% more per order** (€7.71 vs €7.13) but much less than expected.                                  |\n",
    "| **Total Revenue** | Business is currently a *tiny slice* of total revenue (~0.75%) — but with higher ticket size |\n",
    "\n",
    "Potential actionable insight: one last attempt at invigorating and attracting better B2B through e.g. exclusive deals, bulk pricing, repeate order flows? If it doesn't work we may consider spinning off or integrating it into B2C."
   ]
  },
  {
   "cell_type": "code",
   "execution_count": 7,
   "metadata": {},
   "outputs": [
    {
     "data": {
      "text/plain": [
       "Index(['order_id', 'date', 'status', 'fulfilment', 'sales_channel',\n",
       "       'ship_service_level', 'style', 'base-SKU', 'SKU', 'category', 'size',\n",
       "       'ASIN', 'courier_status', 'qty', 'currency', 'amount', 'ship_city',\n",
       "       'ship_state', 'ship_postal_code', 'ship_country', 'promotion_ids',\n",
       "       'B2B', 'fulfilled_by', 'amount_eu'],\n",
       "      dtype='object')"
      ]
     },
     "execution_count": 7,
     "metadata": {},
     "output_type": "execute_result"
    }
   ],
   "source": [
    "#df.ship_service_level.unique()\n",
    "df.columns"
   ]
  },
  {
   "cell_type": "markdown",
   "metadata": {},
   "source": [
    "## Most Popular Products by State\n",
    "\n",
    "Let's say that you’re working as a data scientist or BI developer. The goal is not just to analyze but rather to communicate insights clearly as we've been trying to do before. Sometimes a plot is enough, other times a dynamic dashboard is needed.\n",
    "\n",
    "Dashboards allow business users (e.g., regional managers) to quickly:\n",
    "\n",
    "* See how their region is doing\n",
    "* Spot product trends\n",
    "* Act on poor performance\n",
    "* ..\n",
    "\n",
    "We'll build a simple command-line dashboard first, and then make it interactive."
   ]
  },
  {
   "cell_type": "code",
   "execution_count": 6,
   "metadata": {},
   "outputs": [
    {
     "data": {
      "text/plain": [
       "array(['MAHARASHTRA', 'KARNATAKA', 'PUDUCHERRY', 'TAMIL NADU',\n",
       "       'UTTAR PRADESH', 'CHANDIGARH', 'TELANGANA', 'ANDHRA PRADESH',\n",
       "       'RAJASTHAN', 'DELHI', 'HARYANA', 'ASSAM', 'JHARKHAND',\n",
       "       'CHHATTISGARH', 'ODISHA', 'KERALA', 'MADHYA PRADESH',\n",
       "       'WEST BENGAL', 'NAGALAND', 'GUJARAT', 'UTTARAKHAND', 'BIHAR',\n",
       "       'JAMMU & KASHMIR', 'PUNJAB', 'HIMACHAL PRADESH',\n",
       "       'ARUNACHAL PRADESH', 'MANIPUR', 'GOA', 'MEGHALAYA', 'TRIPURA',\n",
       "       'LADAKH', 'DADRA AND NAGAR', 'SIKKIM', nan, 'ANDAMAN & NICOBAR',\n",
       "       'RAJSHTHAN', 'NL', 'MIZORAM', 'NEW DELHI',\n",
       "       'PUNJAB/MOHALI/ZIRAKPUR', 'RJ', 'ORISSA', 'LAKSHADWEEP', 'PB',\n",
       "       'AR', 'PONDICHERRY', 'RAJSTHAN'], dtype=object)"
      ]
     },
     "execution_count": 6,
     "metadata": {},
     "output_type": "execute_result"
    }
   ],
   "source": [
    "df.ship_state.unique()"
   ]
  },
  {
   "cell_type": "markdown",
   "metadata": {},
   "source": [
    "Let's focus on one state to understand its sales profile. We'll start with Karnataka, one of the largest markets"
   ]
  },
  {
   "cell_type": "code",
   "execution_count": 7,
   "metadata": {},
   "outputs": [],
   "source": [
    "# Filter data for Karnataka\n",
    "karnataka = df[df['ship_state'] == 'KARNATAKA']"
   ]
  },
  {
   "cell_type": "code",
   "execution_count": 8,
   "metadata": {},
   "outputs": [
    {
     "name": "stdout",
     "output_type": "stream",
     "text": [
      "Total Orders: 16050\n",
      "Total Revenue: €115,144.39\n",
      "Average Order Value: €7.17\n",
      "Top Category: kurta (6085 units)\n"
     ]
    }
   ],
   "source": [
    "# Calculate the number of orders placed in this state\n",
    "total_orders = len(karnataka)\n",
    "\n",
    "# Calculate total revenue generated\n",
    "total_revenue = karnataka['amount_eu'].sum()\n",
    "\n",
    "# Average revenue per order — helps identify spending behavior\n",
    "avg_order_value = karnataka['amount_eu'].mean()\n",
    "\n",
    "# Find the most popular product category by quantity sold\n",
    "top_category = (\n",
    "    karnataka.groupby('category')['qty']\n",
    "    .sum()\n",
    "    .sort_values(ascending=False)\n",
    "    .head(1)\n",
    ")\n",
    "\n",
    "# Print the summary stats\n",
    "print(f\"Total Orders: {total_orders}\")\n",
    "print(f\"Total Revenue: €{total_revenue:,.2f}\")\n",
    "print(f\"Average Order Value: €{avg_order_value:,.2f}\")\n",
    "print(f\"Top Category: {top_category.index[0]} ({top_category.values[0]} units)\")"
   ]
  },
  {
   "cell_type": "markdown",
   "metadata": {},
   "source": [
    "Now, we wrap whatever you came up with in a function"
   ]
  },
  {
   "cell_type": "code",
   "execution_count": 12,
   "metadata": {},
   "outputs": [
    {
     "name": "stdout",
     "output_type": "stream",
     "text": [
      "--- Dashboard for Karnataka ---\n",
      "Total Orders: 16050\n",
      "Total Revenue: €123,519.42\n",
      "Average Order Value: €7.70\n",
      "Top Category: kurta (6085 units)\n"
     ]
    }
   ],
   "source": [
    "def draw_state_dashboard(state):\n",
    "    # Standardize input casing\n",
    "    subset = df[df['ship_state'] == state.upper()]\n",
    "    \n",
    "    if subset.empty:\n",
    "        print(\"No data for selected state.\")\n",
    "        return\n",
    "\n",
    "    # Core KPIs\n",
    "    total_orders = len(subset)\n",
    "    total_revenue = subset['amount_eu'].sum()\n",
    "    avg_order_value = subset['amount_eu'].mean()\n",
    "    top_category = (\n",
    "        subset.groupby('category')['qty']\n",
    "        .sum()\n",
    "        .sort_values(ascending=False)\n",
    "        .head(1)\n",
    "    )\n",
    "\n",
    "    # Print the summary\n",
    "    print(f\"--- Dashboard for {state.title()} ---\")\n",
    "    print(f\"Total Orders: {total_orders}\")\n",
    "    print(f\"Total Revenue: €{total_revenue:,.2f}\")\n",
    "    print(f\"Average Order Value: €{avg_order_value:,.2f}\")\n",
    "    print(f\"Top Category: {top_category.index[0]} ({top_category.values[0]} units)\")\n",
    "\n",
    "draw_state_dashboard(\"karnataka\")"
   ]
  },
  {
   "cell_type": "markdown",
   "metadata": {},
   "source": [
    "**Dashboard**"
   ]
  },
  {
   "cell_type": "markdown",
   "metadata": {},
   "source": [
    "Wonderful, all that is needed at this point is to make it interactive with a dropdown. Note: this code assumes that you are using a notebook like google collab or jupyter lab. Notably it won't work in VS Code.\n",
    "\n",
    "Note: You will need to install and enable widgets, it doesn't always work on every environment."
   ]
  },
  {
   "cell_type": "code",
   "execution_count": 13,
   "metadata": {
    "collapsed": true,
    "jupyter": {
     "outputs_hidden": true
    }
   },
   "outputs": [
    {
     "name": "stdout",
     "output_type": "stream",
     "text": [
      "Requirement already satisfied: ipywidgets==8.0.2 in c:\\users\\enric\\miniconda3\\envs\\dsfb\\lib\\site-packages (8.0.2)\n",
      "Requirement already satisfied: ipykernel>=4.5.1 in c:\\users\\enric\\miniconda3\\envs\\dsfb\\lib\\site-packages (from ipywidgets==8.0.2) (6.29.5)\n",
      "Requirement already satisfied: ipython>=6.1.0 in c:\\users\\enric\\miniconda3\\envs\\dsfb\\lib\\site-packages (from ipywidgets==8.0.2) (8.31.0)\n",
      "Requirement already satisfied: traitlets>=4.3.1 in c:\\users\\enric\\miniconda3\\envs\\dsfb\\lib\\site-packages (from ipywidgets==8.0.2) (5.14.3)\n",
      "Requirement already satisfied: widgetsnbextension~=4.0 in c:\\users\\enric\\miniconda3\\envs\\dsfb\\lib\\site-packages (from ipywidgets==8.0.2) (4.0.13)\n",
      "Requirement already satisfied: jupyterlab-widgets~=3.0 in c:\\users\\enric\\miniconda3\\envs\\dsfb\\lib\\site-packages (from ipywidgets==8.0.2) (3.0.13)\n",
      "Requirement already satisfied: comm>=0.1.1 in c:\\users\\enric\\miniconda3\\envs\\dsfb\\lib\\site-packages (from ipykernel>=4.5.1->ipywidgets==8.0.2) (0.2.2)\n",
      "Requirement already satisfied: debugpy>=1.6.5 in c:\\users\\enric\\miniconda3\\envs\\dsfb\\lib\\site-packages (from ipykernel>=4.5.1->ipywidgets==8.0.2) (1.8.11)\n",
      "Requirement already satisfied: jupyter-client>=6.1.12 in c:\\users\\enric\\miniconda3\\envs\\dsfb\\lib\\site-packages (from ipykernel>=4.5.1->ipywidgets==8.0.2) (8.6.3)\n",
      "Requirement already satisfied: jupyter-core!=5.0.*,>=4.12 in c:\\users\\enric\\miniconda3\\envs\\dsfb\\lib\\site-packages (from ipykernel>=4.5.1->ipywidgets==8.0.2) (5.7.2)\n",
      "Requirement already satisfied: matplotlib-inline>=0.1 in c:\\users\\enric\\miniconda3\\envs\\dsfb\\lib\\site-packages (from ipykernel>=4.5.1->ipywidgets==8.0.2) (0.1.7)\n",
      "Requirement already satisfied: nest-asyncio in c:\\users\\enric\\miniconda3\\envs\\dsfb\\lib\\site-packages (from ipykernel>=4.5.1->ipywidgets==8.0.2) (1.6.0)\n",
      "Requirement already satisfied: packaging in c:\\users\\enric\\miniconda3\\envs\\dsfb\\lib\\site-packages (from ipykernel>=4.5.1->ipywidgets==8.0.2) (24.2)\n",
      "Requirement already satisfied: psutil in c:\\users\\enric\\miniconda3\\envs\\dsfb\\lib\\site-packages (from ipykernel>=4.5.1->ipywidgets==8.0.2) (6.1.1)\n",
      "Requirement already satisfied: pyzmq>=24 in c:\\users\\enric\\miniconda3\\envs\\dsfb\\lib\\site-packages (from ipykernel>=4.5.1->ipywidgets==8.0.2) (26.2.0)\n",
      "Requirement already satisfied: tornado>=6.1 in c:\\users\\enric\\miniconda3\\envs\\dsfb\\lib\\site-packages (from ipykernel>=4.5.1->ipywidgets==8.0.2) (6.4.2)\n",
      "Requirement already satisfied: colorama in c:\\users\\enric\\miniconda3\\envs\\dsfb\\lib\\site-packages (from ipython>=6.1.0->ipywidgets==8.0.2) (0.4.6)\n",
      "Requirement already satisfied: decorator in c:\\users\\enric\\miniconda3\\envs\\dsfb\\lib\\site-packages (from ipython>=6.1.0->ipywidgets==8.0.2) (5.1.1)\n",
      "Requirement already satisfied: jedi>=0.16 in c:\\users\\enric\\miniconda3\\envs\\dsfb\\lib\\site-packages (from ipython>=6.1.0->ipywidgets==8.0.2) (0.19.2)\n",
      "Requirement already satisfied: prompt_toolkit<3.1.0,>=3.0.41 in c:\\users\\enric\\miniconda3\\envs\\dsfb\\lib\\site-packages (from ipython>=6.1.0->ipywidgets==8.0.2) (3.0.48)\n",
      "Requirement already satisfied: pygments>=2.4.0 in c:\\users\\enric\\miniconda3\\envs\\dsfb\\lib\\site-packages (from ipython>=6.1.0->ipywidgets==8.0.2) (2.19.1)\n",
      "Requirement already satisfied: stack_data in c:\\users\\enric\\miniconda3\\envs\\dsfb\\lib\\site-packages (from ipython>=6.1.0->ipywidgets==8.0.2) (0.6.3)\n",
      "Requirement already satisfied: typing_extensions>=4.6 in c:\\users\\enric\\miniconda3\\envs\\dsfb\\lib\\site-packages (from ipython>=6.1.0->ipywidgets==8.0.2) (4.12.2)\n",
      "Requirement already satisfied: parso<0.9.0,>=0.8.4 in c:\\users\\enric\\miniconda3\\envs\\dsfb\\lib\\site-packages (from jedi>=0.16->ipython>=6.1.0->ipywidgets==8.0.2) (0.8.4)\n",
      "Requirement already satisfied: python-dateutil>=2.8.2 in c:\\users\\enric\\miniconda3\\envs\\dsfb\\lib\\site-packages (from jupyter-client>=6.1.12->ipykernel>=4.5.1->ipywidgets==8.0.2) (2.9.0.post0)\n",
      "Requirement already satisfied: platformdirs>=2.5 in c:\\users\\enric\\miniconda3\\envs\\dsfb\\lib\\site-packages (from jupyter-core!=5.0.*,>=4.12->ipykernel>=4.5.1->ipywidgets==8.0.2) (4.3.6)\n",
      "Requirement already satisfied: pywin32>=300 in c:\\users\\enric\\miniconda3\\envs\\dsfb\\lib\\site-packages (from jupyter-core!=5.0.*,>=4.12->ipykernel>=4.5.1->ipywidgets==8.0.2) (307)\n",
      "Requirement already satisfied: wcwidth in c:\\users\\enric\\miniconda3\\envs\\dsfb\\lib\\site-packages (from prompt_toolkit<3.1.0,>=3.0.41->ipython>=6.1.0->ipywidgets==8.0.2) (0.2.13)\n",
      "Requirement already satisfied: executing>=1.2.0 in c:\\users\\enric\\miniconda3\\envs\\dsfb\\lib\\site-packages (from stack_data->ipython>=6.1.0->ipywidgets==8.0.2) (2.1.0)\n",
      "Requirement already satisfied: asttokens>=2.1.0 in c:\\users\\enric\\miniconda3\\envs\\dsfb\\lib\\site-packages (from stack_data->ipython>=6.1.0->ipywidgets==8.0.2) (3.0.0)\n",
      "Requirement already satisfied: pure_eval in c:\\users\\enric\\miniconda3\\envs\\dsfb\\lib\\site-packages (from stack_data->ipython>=6.1.0->ipywidgets==8.0.2) (0.2.3)\n",
      "Requirement already satisfied: six>=1.5 in c:\\users\\enric\\miniconda3\\envs\\dsfb\\lib\\site-packages (from python-dateutil>=2.8.2->jupyter-client>=6.1.12->ipykernel>=4.5.1->ipywidgets==8.0.2) (1.17.0)\n",
      "Requirement already satisfied: jupyterlab_widgets==3.0.13 in c:\\users\\enric\\miniconda3\\envs\\dsfb\\lib\\site-packages (3.0.13)\n"
     ]
    }
   ],
   "source": [
    "! pip install ipywidgets==8.0.2\n",
    "! pip install jupyterlab_widgets==3.0.13"
   ]
  },
  {
   "cell_type": "code",
   "execution_count": 14,
   "metadata": {},
   "outputs": [
    {
     "data": {
      "application/vnd.jupyter.widget-view+json": {
       "model_id": "d5234410942a4604a53d6542175c4b83",
       "version_major": 2,
       "version_minor": 0
      },
      "text/plain": [
       "Dropdown(description='Select a State:', options=('ANDAMAN & NICOBAR', 'ANDHRA PRADESH', 'AR', 'ARUNACHAL PRADE…"
      ]
     },
     "metadata": {},
     "output_type": "display_data"
    },
    {
     "data": {
      "application/vnd.jupyter.widget-view+json": {
       "model_id": "956b7e96089b4a558913089d89fb0d44",
       "version_major": 2,
       "version_minor": 0
      },
      "text/plain": [
       "Output()"
      ]
     },
     "metadata": {},
     "output_type": "display_data"
    }
   ],
   "source": [
    "import ipywidgets as widgets\n",
    "from IPython.display import display, clear_output\n",
    "\n",
    "# Dropdown with all cleaned states\n",
    "output = widgets.Output()\n",
    "state_dropdown = widgets.Dropdown(\n",
    "    options=sorted(df['ship_state'].dropna().unique()),\n",
    "    description='Select a State:',\n",
    "    style={'description_width': 'initial'}\n",
    ")\n",
    "\n",
    "# When a user selects a different state, redraw the dashboard\n",
    "def on_state_change(change):\n",
    "    if change['type'] == 'change' and change['name'] == 'value':\n",
    "       with output:\n",
    "            clear_output(wait=True)\n",
    "            draw_state_dashboard(change['new'])\n",
    "\n",
    "# Connect the dropdown to the callback\n",
    "state_dropdown.observe(on_state_change)\n",
    "display(state_dropdown, output)"
   ]
  },
  {
   "cell_type": "markdown",
   "metadata": {},
   "source": [
    "### BONUS: add some analysis from these and the previous classes to make it prettier"
   ]
  },
  {
   "cell_type": "markdown",
   "metadata": {},
   "source": [
    "Note: in production you will want to use plotly dash, which functions similar to what we've seen above. Here are a [couple of examples](https://plotly.com/examples/), and one for [Amazon](https://challenge-amazon.onrender.com/puchase_overview)."
   ]
  },
  {
   "cell_type": "code",
   "execution_count": 18,
   "metadata": {},
   "outputs": [
    {
     "data": {
      "application/vnd.jupyter.widget-view+json": {
       "model_id": "a573a86dc7554fb3a0ea00ec57ebad73",
       "version_major": 2,
       "version_minor": 0
      },
      "text/plain": [
       "Dropdown(description='Select a State:', options=('ANDAMAN & NICOBAR', 'ANDHRA PRADESH', 'AR', 'ARUNACHAL PRADE…"
      ]
     },
     "metadata": {},
     "output_type": "display_data"
    },
    {
     "data": {
      "application/vnd.jupyter.widget-view+json": {
       "model_id": "9f51a0857d184fbdb1412c027fff6e18",
       "version_major": 2,
       "version_minor": 0
      },
      "text/plain": [
       "Output()"
      ]
     },
     "metadata": {},
     "output_type": "display_data"
    }
   ],
   "source": [
    "import matplotlib.pyplot as plt\n",
    "import seaborn as sns\n",
    "\n",
    "# Define enhanced dashboard function\n",
    "df['date'] = pd.to_datetime(df['date'])\n",
    "\n",
    "def draw_state_dashboard(state):\n",
    "    subset = df[df['ship_state'] == state.upper()]\n",
    "    if subset.empty:\n",
    "        print(\"No data for selected state.\")\n",
    "        return\n",
    "\n",
    "    # Set up 2x2 subplot layout\n",
    "    fig, axs = plt.subplots(2, 2, figsize=(15, 10))\n",
    "\n",
    "    # Pane 1: Bar plot of top categories\n",
    "    top_cats = (subset.groupby('category')['qty']\n",
    "                .sum()\n",
    "                .sort_values(ascending=False)\n",
    "                .head(6)\n",
    "                .reset_index())\n",
    "    sns.barplot(data=top_cats, x='category', y='qty', ax=axs[0, 0], palette='Blues_d', hue='category')\n",
    "    axs[0, 0].set_title(\"Top Product Categories\")\n",
    "    axs[0, 0].set_ylabel(\"Quantity Sold\")\n",
    "    axs[0, 0].set_xlabel(\"\")\n",
    "    axs[0, 0].tick_params(axis='x', rotation=45)\n",
    "\n",
    "    # Pane 2: Monthly revenue trend\n",
    "    monthly = (subset.groupby(subset['date'].dt.to_period('M'))['amount_eu']\n",
    "               .sum()\n",
    "               .sort_index())\n",
    "    monthly.index = monthly.index.to_timestamp()\n",
    "    axs[0, 1].plot(monthly.index, monthly.values, marker='o')\n",
    "    axs[0, 1].set_title(\"Monthly Revenue Trend\")\n",
    "    axs[0, 1].set_ylabel(\"Revenue\")\n",
    "    axs[0, 1].set_xlabel(\"Month\")\n",
    "    axs[0, 1].tick_params(axis='x', rotation=45)\n",
    "    \n",
    "    # Pane 3: Order status breakdown as a bar plot\n",
    "    status_counts = (subset['status']\n",
    "                     .value_counts()\n",
    "                     .head(6)\n",
    "                     .sort_values(ascending=False)\n",
    "                     .reset_index())\n",
    "    \n",
    "    sns.barplot(data=status_counts, y='status', x='count', ax=axs[1, 0], palette='pastel', hue='status', orient='h')\n",
    "    \n",
    "    axs[1, 0].set_title(\"Top 5 Order Statuses\")\n",
    "    axs[1, 0].set_ylabel(\"Order Count\")\n",
    "    axs[1, 0].set_xlabel(\"\")\n",
    "    axs[1, 0].tick_params(axis='x', rotation=45)\n",
    "\n",
    "\n",
    "    # Pane 4: Show summary stats as table\n",
    "    total_orders = len(subset)\n",
    "    total_revenue = subset['amount_eu'].sum()\n",
    "    avg_order_value = subset['amount_eu'].mean()\n",
    "    b2b_share = subset['B2B'].mean() * 100\n",
    "    top_category = top_cats.iloc[0]['category']\n",
    "    summary_data = pd.DataFrame({\n",
    "        'Metric': ['Total Orders', 'Total Revenue', 'Average Order Value', 'B2B Share (%)', 'Top Category'],\n",
    "        'Value': [total_orders, f\"€{total_revenue:,.0f}\", f\"€{avg_order_value:,.0f}\", f\"{b2b_share:.1f}%\", top_category]\n",
    "    })\n",
    "    axs[1, 1].axis('off')\n",
    "    table = axs[1, 1].table(cellText=summary_data.values,\n",
    "                           colLabels=summary_data.columns,\n",
    "                           cellLoc='left', loc='center')\n",
    "    table.auto_set_font_size(False)\n",
    "    table.set_fontsize(10)\n",
    "    table.scale(1, 1.5)\n",
    "\n",
    "    plt.tight_layout()\n",
    "    plt.show()\n",
    "\n",
    "# UI Dropdown\n",
    "output = widgets.Output()\n",
    "state_dropdown = widgets.Dropdown(\n",
    "    options=sorted(df['ship_state'].dropna().unique()),\n",
    "    description='Select a State:',\n",
    "    style={'description_width': 'initial'}\n",
    ")\n",
    "\n",
    "def on_state_change(change):\n",
    "    if change['type'] == 'change' and change['name'] == 'value':\n",
    "        with output:\n",
    "            clear_output(wait=True)\n",
    "            draw_state_dashboard(change['new'])\n",
    "\n",
    "state_dropdown.observe(on_state_change)\n",
    "display(state_dropdown, output)"
   ]
  },
  {
   "cell_type": "markdown",
   "metadata": {},
   "source": [
    "### Frequent Itemset Mining (Unordered Market Basket Analysis)\n",
    "\n",
    "In market basket analysis, the goal is to find groups of products that are frequently bought together. There are two broad approaches:\n",
    "\n",
    "- **Frequent Itemset Mining**: We don’t care about the order of products. We simply want to know which items often appear together in the same cart.\n",
    "- **Association Rule Mining**: We care about order — e.g., if a customer buys A and B, they’re likely to also buy C. This introduces direction and confidence.\n",
    "\n",
    "In this exercise, we focus on **frequent itemset mining**, i.e., **unordered** co-occurrence.\n",
    "\n",
    "#### Key Concepts\n",
    "\n",
    "We identify itemsets like: {'A', 'B', 'C'} that appear together in a minimum number of transactions. We will also be logging the support: the percentage of all orders that contain the entire itemset.\n",
    "\n",
    "For example: ('J0389-TP-L', 'J0418-TP-L') with support = 0.025 means:   \"These two products were bought together in _2.5% of all orders_\".\n",
    "\n",
    "There is no directionality here. We're not saying buying A leads to B, only that A and B often appear together. This is useful for:\n",
    "\n",
    "- Identifying bundles\n",
    "- Recommending related products\n",
    "- Planning promotions or display layouts"
   ]
  },
  {
   "cell_type": "code",
   "execution_count": 14,
   "metadata": {},
   "outputs": [
    {
     "name": "stdout",
     "output_type": "stream",
     "text": [
      "Requirement already satisfied: pyfpgrowth in c:\\users\\enric\\miniconda3\\envs\\dsfb\\lib\\site-packages (1.0)\n"
     ]
    }
   ],
   "source": [
    "! pip install pyfpgrowth"
   ]
  },
  {
   "cell_type": "code",
   "execution_count": 37,
   "metadata": {},
   "outputs": [
    {
     "data": {
      "text/html": [
       "<div>\n",
       "<style scoped>\n",
       "    .dataframe tbody tr th:only-of-type {\n",
       "        vertical-align: middle;\n",
       "    }\n",
       "\n",
       "    .dataframe tbody tr th {\n",
       "        vertical-align: top;\n",
       "    }\n",
       "\n",
       "    .dataframe thead th {\n",
       "        text-align: right;\n",
       "    }\n",
       "</style>\n",
       "<table border=\"1\" class=\"dataframe\">\n",
       "  <thead>\n",
       "    <tr style=\"text-align: right;\">\n",
       "      <th></th>\n",
       "      <th>Itemset</th>\n",
       "      <th>Support</th>\n",
       "      <th>Size</th>\n",
       "    </tr>\n",
       "  </thead>\n",
       "  <tbody>\n",
       "    <tr>\n",
       "      <th>21</th>\n",
       "      <td>(Set, kurta)</td>\n",
       "      <td>908</td>\n",
       "      <td>2</td>\n",
       "    </tr>\n",
       "    <tr>\n",
       "      <th>20</th>\n",
       "      <td>(Western Dress, kurta)</td>\n",
       "      <td>263</td>\n",
       "      <td>2</td>\n",
       "    </tr>\n",
       "    <tr>\n",
       "      <th>18</th>\n",
       "      <td>(Set, Western Dress)</td>\n",
       "      <td>163</td>\n",
       "      <td>2</td>\n",
       "    </tr>\n",
       "    <tr>\n",
       "      <th>17</th>\n",
       "      <td>(Top, kurta)</td>\n",
       "      <td>97</td>\n",
       "      <td>2</td>\n",
       "    </tr>\n",
       "    <tr>\n",
       "      <th>15</th>\n",
       "      <td>(Set, Top)</td>\n",
       "      <td>86</td>\n",
       "      <td>2</td>\n",
       "    </tr>\n",
       "    <tr>\n",
       "      <th>11</th>\n",
       "      <td>(Ethnic Dress, Set)</td>\n",
       "      <td>57</td>\n",
       "      <td>2</td>\n",
       "    </tr>\n",
       "    <tr>\n",
       "      <th>10</th>\n",
       "      <td>(Ethnic Dress, Western Dress)</td>\n",
       "      <td>57</td>\n",
       "      <td>2</td>\n",
       "    </tr>\n",
       "    <tr>\n",
       "      <th>19</th>\n",
       "      <td>(Set, Western Dress, kurta)</td>\n",
       "      <td>24</td>\n",
       "      <td>3</td>\n",
       "    </tr>\n",
       "    <tr>\n",
       "      <th>9</th>\n",
       "      <td>(Ethnic Dress, Set, kurta)</td>\n",
       "      <td>12</td>\n",
       "      <td>3</td>\n",
       "    </tr>\n",
       "    <tr>\n",
       "      <th>16</th>\n",
       "      <td>(Set, Top, kurta)</td>\n",
       "      <td>9</td>\n",
       "      <td>3</td>\n",
       "    </tr>\n",
       "    <tr>\n",
       "      <th>2</th>\n",
       "      <td>(Bottom, kurta)</td>\n",
       "      <td>7</td>\n",
       "      <td>2</td>\n",
       "    </tr>\n",
       "    <tr>\n",
       "      <th>4</th>\n",
       "      <td>(Blouse, Set)</td>\n",
       "      <td>7</td>\n",
       "      <td>2</td>\n",
       "    </tr>\n",
       "    <tr>\n",
       "      <th>12</th>\n",
       "      <td>(Ethnic Dress, Set, Western Dress)</td>\n",
       "      <td>7</td>\n",
       "      <td>3</td>\n",
       "    </tr>\n",
       "    <tr>\n",
       "      <th>5</th>\n",
       "      <td>(Ethnic Dress, Top)</td>\n",
       "      <td>6</td>\n",
       "      <td>2</td>\n",
       "    </tr>\n",
       "    <tr>\n",
       "      <th>14</th>\n",
       "      <td>(Set, Top, Western Dress)</td>\n",
       "      <td>6</td>\n",
       "      <td>3</td>\n",
       "    </tr>\n",
       "    <tr>\n",
       "      <th>13</th>\n",
       "      <td>(Top, Western Dress, kurta)</td>\n",
       "      <td>5</td>\n",
       "      <td>3</td>\n",
       "    </tr>\n",
       "    <tr>\n",
       "      <th>3</th>\n",
       "      <td>(Blouse, kurta)</td>\n",
       "      <td>4</td>\n",
       "      <td>2</td>\n",
       "    </tr>\n",
       "    <tr>\n",
       "      <th>7</th>\n",
       "      <td>(Ethnic Dress, Western Dress, kurta)</td>\n",
       "      <td>4</td>\n",
       "      <td>3</td>\n",
       "    </tr>\n",
       "    <tr>\n",
       "      <th>0</th>\n",
       "      <td>(Saree, Set)</td>\n",
       "      <td>3</td>\n",
       "      <td>2</td>\n",
       "    </tr>\n",
       "    <tr>\n",
       "      <th>1</th>\n",
       "      <td>(Bottom, Set)</td>\n",
       "      <td>3</td>\n",
       "      <td>2</td>\n",
       "    </tr>\n",
       "    <tr>\n",
       "      <th>6</th>\n",
       "      <td>(Ethnic Dress, Top, kurta)</td>\n",
       "      <td>3</td>\n",
       "      <td>3</td>\n",
       "    </tr>\n",
       "    <tr>\n",
       "      <th>8</th>\n",
       "      <td>(Ethnic Dress, Set, Western Dress, kurta)</td>\n",
       "      <td>3</td>\n",
       "      <td>4</td>\n",
       "    </tr>\n",
       "  </tbody>\n",
       "</table>\n",
       "</div>"
      ],
      "text/plain": [
       "                                      Itemset  Support  Size\n",
       "21                               (Set, kurta)      908     2\n",
       "20                     (Western Dress, kurta)      263     2\n",
       "18                       (Set, Western Dress)      163     2\n",
       "17                               (Top, kurta)       97     2\n",
       "15                                 (Set, Top)       86     2\n",
       "11                        (Ethnic Dress, Set)       57     2\n",
       "10              (Ethnic Dress, Western Dress)       57     2\n",
       "19                (Set, Western Dress, kurta)       24     3\n",
       "9                  (Ethnic Dress, Set, kurta)       12     3\n",
       "16                          (Set, Top, kurta)        9     3\n",
       "2                             (Bottom, kurta)        7     2\n",
       "4                               (Blouse, Set)        7     2\n",
       "12         (Ethnic Dress, Set, Western Dress)        7     3\n",
       "5                         (Ethnic Dress, Top)        6     2\n",
       "14                  (Set, Top, Western Dress)        6     3\n",
       "13                (Top, Western Dress, kurta)        5     3\n",
       "3                             (Blouse, kurta)        4     2\n",
       "7        (Ethnic Dress, Western Dress, kurta)        4     3\n",
       "0                                (Saree, Set)        3     2\n",
       "1                               (Bottom, Set)        3     2\n",
       "6                  (Ethnic Dress, Top, kurta)        3     3\n",
       "8   (Ethnic Dress, Set, Western Dress, kurta)        3     4"
      ]
     },
     "execution_count": 37,
     "metadata": {},
     "output_type": "execute_result"
    }
   ],
   "source": [
    "import pyfpgrowth\n",
    "\n",
    "ANALYSIS_COLUMN = 'category' # Try base-SKU for online/category which would make more sense for offline settings\n",
    "\n",
    "# Normalize SKUs by removing common size/variant suffixes\n",
    "order_lists = df.groupby('order_id')[ANALYSIS_COLUMN].unique()\n",
    "\n",
    "# Apply market basket analysis\n",
    "patterns = pyfpgrowth.find_frequent_patterns(order_lists, 3)\n",
    "\n",
    "# Filter itemsets with more than 1 item\n",
    "unordered_sets = {k: v for k, v in patterns.items() if len(k) > 1}\n",
    "\n",
    "df_patterns = pd.DataFrame(unordered_sets.items(), columns=['Itemset', 'Support'])\n",
    "df_patterns['Size'] = df_patterns['Itemset'].apply(lambda x: len(x))\n",
    "df_patterns.sort_values('Support', ascending=False)"
   ]
  }
 ],
 "metadata": {
  "kernelspec": {
   "display_name": "Python 3 (ipykernel)",
   "language": "python",
   "name": "python3"
  },
  "language_info": {
   "codemirror_mode": {
    "name": "ipython",
    "version": 3
   },
   "file_extension": ".py",
   "mimetype": "text/x-python",
   "name": "python",
   "nbconvert_exporter": "python",
   "pygments_lexer": "ipython3",
   "version": "3.11.9"
  }
 },
 "nbformat": 4,
 "nbformat_minor": 4
}
